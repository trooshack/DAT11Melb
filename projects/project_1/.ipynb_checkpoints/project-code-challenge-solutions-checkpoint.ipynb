{
 "cells": [
  {
   "cell_type": "markdown",
   "metadata": {},
   "source": [
    "<img src=\"http://imgur.com/1ZcRyrc.png\" style=\"float: left; margin: 20px; height: 55px\">\n",
    "\n",
    "# Project 1: Python Coding Exercises\n",
    "\n",
    "_Authors: Joseph Nelson (DC) _\n",
    "\n",
    "---"
   ]
  },
  {
   "cell_type": "markdown",
   "metadata": {},
   "source": [
    "The following code challenges are drawn from common exercises used in technical interviews.\n",
    "\n",
    "Please note that there may be several ways to approach each challenge. If you get stuck, try mapping out your approach in pseudocode first. Finally, while solutions to problems like these may be found online, remember that if you copy/paste code that you can't explain, you'll be missing out on the point of the project. The only way to truly learn a new skill is through practice, trial, and error - we can only help you improve by understanding where you are having trouble."
   ]
  },
  {
   "cell_type": "markdown",
   "metadata": {},
   "source": [
    "### Challenge 1: Largest Palindrome\n",
    "A palindromic number reads the same both ways. For example, 1234321 is a palindrome. The largest palindrome made from the product of two two-digit numbers is 9009 = 91 × 99. Find the largest palindrome made from the product of two three-digit numbers. Afterward, write a brief explanation walking through your code's logic in markdown."
   ]
  },
  {
   "cell_type": "code",
   "execution_count": 2,
   "metadata": {},
   "outputs": [
    {
     "name": "stdout",
     "output_type": "stream",
     "text": [
      "906609\n"
     ]
    }
   ],
   "source": [
    "# Option 1\n",
    "\n",
    "result = 0\n",
    "\n",
    "# Iterate through first set of numbers\n",
    "for i in range(100, 1000): \n",
    "    # Iterate through second set of numbers\n",
    "    for n in range(100, 1000):    \n",
    "        # Multiply\n",
    "        num = i * n\n",
    "        # Check forward string\n",
    "        str_num = str(num)\n",
    "        # Check backward string\n",
    "        rev_str = str_num[::-1]\n",
    "        # Store biggest\n",
    "        if str_num == rev_str:\n",
    "            if num > result:\n",
    "                result = num\n",
    "\n",
    "print(result)"
   ]
  },
  {
   "cell_type": "code",
   "execution_count": 6,
   "metadata": {},
   "outputs": [
    {
     "data": {
      "text/plain": [
       "906609"
      ]
     },
     "execution_count": 6,
     "metadata": {},
     "output_type": "execute_result"
    }
   ],
   "source": [
    "# Option 2\n",
    "\n",
    "pals = []    # List to append palindromes\n",
    "\n",
    "for i in range(999,99,-1):    # 999 to 100 decreasing\n",
    "    for j in range(999,99,-1):    # 999 to 100 decreasing\n",
    "        if str(i*j)== str(i*j)[::-1]:    # If product is a palindrome,\n",
    "            pals.append(i*j)    # append the result\n",
    "\n",
    "sorted(pals, reverse=True)[0]     # Sort the final list and return the largest value"
   ]
  },
  {
   "cell_type": "markdown",
   "metadata": {},
   "source": [
    "\n",
    "### Challenge 2: Summation of Primes\n",
    "The sum of the primes below 10 is 2 + 3 + 5 + 7 = 17. Find the sum of all the primes below 2,000. Afterward, write a brief explanation walking through your code's logic in markdown."
   ]
  },
  {
   "cell_type": "code",
   "execution_count": 4,
   "metadata": {},
   "outputs": [
    {
     "name": "stdout",
     "output_type": "stream",
     "text": [
      "[2, 3, 5, 7, 11, 13, 17, 19, 23, 29, 31, 37, 41, 43, 47, 53, 59, 61, 67, 71, 73, 79, 83, 89, 97, 101, 103, 107, 109, 113, 127, 131, 137, 139, 149, 151, 157, 163, 167, 173, 179, 181, 191, 193, 197, 199, 211, 223, 227, 229, 233, 239, 241, 251, 257, 263, 269, 271, 277, 281, 283, 293, 307, 311, 313, 317, 331, 337, 347, 349, 353, 359, 367, 373, 379, 383, 389, 397, 401, 409, 419, 421, 431, 433, 439, 443, 449, 457, 461, 463, 467, 479, 487, 491, 499, 503, 509, 521, 523, 541, 547, 557, 563, 569, 571, 577, 587, 593, 599, 601, 607, 613, 617, 619, 631, 641, 643, 647, 653, 659, 661, 673, 677, 683, 691, 701, 709, 719, 727, 733, 739, 743, 751, 757, 761, 769, 773, 787, 797, 809, 811, 821, 823, 827, 829, 839, 853, 857, 859, 863, 877, 881, 883, 887, 907, 911, 919, 929, 937, 941, 947, 953, 967, 971, 977, 983, 991, 997, 1009, 1013, 1019, 1021, 1031, 1033, 1039, 1049, 1051, 1061, 1063, 1069, 1087, 1091, 1093, 1097, 1103, 1109, 1117, 1123, 1129, 1151, 1153, 1163, 1171, 1181, 1187, 1193, 1201, 1213, 1217, 1223, 1229, 1231, 1237, 1249, 1259, 1277, 1279, 1283, 1289, 1291, 1297, 1301, 1303, 1307, 1319, 1321, 1327, 1361, 1367, 1373, 1381, 1399, 1409, 1423, 1427, 1429, 1433, 1439, 1447, 1451, 1453, 1459, 1471, 1481, 1483, 1487, 1489, 1493, 1499, 1511, 1523, 1531, 1543, 1549, 1553, 1559, 1567, 1571, 1579, 1583, 1597, 1601, 1607, 1609, 1613, 1619, 1621, 1627, 1637, 1657, 1663, 1667, 1669, 1693, 1697, 1699, 1709, 1721, 1723, 1733, 1741, 1747, 1753, 1759, 1777, 1783, 1787, 1789, 1801, 1811, 1823, 1831, 1847, 1861, 1867, 1871, 1873, 1877, 1879, 1889, 1901, 1907, 1913, 1931, 1933, 1949, 1951, 1973, 1979, 1987, 1993, 1997, 1999]\n"
     ]
    },
    {
     "data": {
      "text/plain": [
       "277050"
      ]
     },
     "execution_count": 4,
     "metadata": {},
     "output_type": "execute_result"
    }
   ],
   "source": [
    "# Answer\n",
    "primes = [] # Set a list to catch prime values\n",
    "\n",
    "for i in range(2, 2000): \n",
    "    # All statement evaluates to true if all of the iterables satisfy the criteria\n",
    "    # If i divided by the existing primes(x) never has a remainder of 0\n",
    "    if all(i % x != 0 for x in primes):\n",
    "        # Append this number to the primes list\n",
    "        primes.append(i)\n",
    "\n",
    "print(primes)\n",
    "sum(primes)"
   ]
  },
  {
   "cell_type": "markdown",
   "metadata": {},
   "source": [
    "### Challenge 3: Multiples of 3 and 5\n",
    "If we list all of the natural numbers below 10 that are multiples of 3 or 5, we get 3, 5, 6, and 9. The sum of these multiples is 23. Find the sum of all the multiples of 3 and 5 below 1,000. Afterward, write a brief explanation walking through your code's logic in markdown."
   ]
  },
  {
   "cell_type": "code",
   "execution_count": 5,
   "metadata": {},
   "outputs": [
    {
     "data": {
      "text/plain": [
       "233168"
      ]
     },
     "execution_count": 5,
     "metadata": {},
     "output_type": "execute_result"
    }
   ],
   "source": [
    "# Option 1\n",
    "\n",
    "# Empty list initialized\n",
    "multiples = []\n",
    "\n",
    "# Iterate through desired range\n",
    "for i in range(3,1000):\n",
    "    \n",
    "    # check if divisible by 3 or 5\n",
    "    if i % 3 == 0 or i % 5 == 0:\n",
    "        # Add to list\n",
    "        multiples.append(i)\n",
    "        \n",
    "# Sum list\n",
    "sum(multiples)"
   ]
  },
  {
   "cell_type": "code",
   "execution_count": null,
   "metadata": {},
   "outputs": [],
   "source": [
    "# Option 2\n",
    "\n",
    "# Using the range function we can create ranges of allowed multples of 5 as well as 3.\n",
    "# The union of the ranges is every element in either range\n",
    "# Once they are concatenated together, we set them to remove all duplicates.\n",
    "# Sum the set range.\n",
    "\n",
    "all_multiples = set(range(0,1000,5)).union(set(range(0,1000,3)))\n",
    "\n",
    "sum(all_multiples)"
   ]
  },
  {
   "cell_type": "markdown",
   "metadata": {},
   "source": [
    "### Challenge 4: String Compressor\n",
    "Implement a method to perform basic string compression using the counts of repeated characters. (This is called run-length encoding.) For example, the string \"aabcccccaaa\" would become a2b1c5a3. If the “compressed” string would not become smaller than the original string, your method should return the original string. You can assume the string has only uppercase and lowercase letters (a–z). Specify whether your solution is case sensitive or case insensitive and what you would need to change to make it the other. Afterward, write a brief explanation walking through your code's logic in markdown."
   ]
  },
  {
   "cell_type": "code",
   "execution_count": null,
   "metadata": {
    "collapsed": true
   },
   "outputs": [],
   "source": [
    "# Option 1: Case Sensitive\n",
    "\n",
    "# Create function\n",
    "def string_compressor(word):\n",
    "    # initalize empty items\n",
    "    compressed_word = \"\"\n",
    "    count_letter = \"\"\n",
    "    count = 0\n",
    "    \n",
    "    # Check if each letter matches current count_letter — the one we're checking\n",
    "    for letter in word:\n",
    "        if letter == count_letter:\n",
    "            count += 1\n",
    "        else:\n",
    "            # Count redundancies of a single letters\n",
    "            if count > 0:\n",
    "                compressed_word += count_letter + str(count)\n",
    "            count_letter = letter\n",
    "            count = 1\n",
    "    compressed_word += count_letter + str(count)\n",
    "    \n",
    "    # Return the shorter option — either original word or compressed string\n",
    "    if len(compressed_word) < len(word):\n",
    "        return compressed_word\n",
    "    else:\n",
    "        return word\n",
    "\n",
    "print(string_compressor('aabccccccaaa'))\n",
    "\n",
    "print(string_compressor('cat'))"
   ]
  },
  {
   "cell_type": "code",
   "execution_count": null,
   "metadata": {},
   "outputs": [],
   "source": [
    "# Option 2: Case Sensitive: Output Order Disrupted\n",
    "\n",
    "# Define function\n",
    "def compressed_string(string):\n",
    "    # Initialize empty string\n",
    "    compressed = ''\n",
    "    \n",
    "    # If string length is not all unique letters (the set of letters), otherwise return original string\n",
    "    if len(string) != len(set(string)):\n",
    "        \n",
    "        # Loop through each; first set count to zero\n",
    "        for i in set(string):\n",
    "            count = 0\n",
    "            # Look for if each letter matches another letter in the string; increment count by one\n",
    "            for j in list(string):\n",
    "                if i == j:\n",
    "                    count += 1\n",
    "            # Put together the letter and count for that letter's occurrences\n",
    "            compressed += i+str(count)\n",
    "        return compressed\n",
    "    else:\n",
    "        return string\n",
    "\n",
    "compressed_string('datascience')"
   ]
  },
  {
   "cell_type": "markdown",
   "metadata": {},
   "source": [
    "### *BONUS* Challenge: FizzBuzz\n",
    "Write a program that prints all of the numbers from 1 to 100. For multiples of 3, instead of the number, print \"Fizz;\" for multiples of 5, print \"Buzz.\" For numbers that are multiples of both 3 and 5, print \"FizzBuzz.\" Afterward, write a brief explanation walking through your code's logic in markdown."
   ]
  },
  {
   "cell_type": "code",
   "execution_count": 1,
   "metadata": {},
   "outputs": [
    {
     "name": "stdout",
     "output_type": "stream",
     "text": [
      "FizzBuzz\n",
      "1\n",
      "2\n",
      "Fizz\n",
      "4\n",
      "Buzz\n",
      "Fizz\n",
      "7\n",
      "8\n",
      "Fizz\n",
      "Buzz\n",
      "11\n",
      "Fizz\n",
      "13\n",
      "14\n",
      "FizzBuzz\n",
      "16\n",
      "17\n",
      "Fizz\n",
      "19\n",
      "Buzz\n",
      "Fizz\n",
      "22\n",
      "23\n",
      "Fizz\n",
      "Buzz\n",
      "26\n",
      "Fizz\n",
      "28\n",
      "29\n",
      "FizzBuzz\n",
      "31\n",
      "32\n",
      "Fizz\n",
      "34\n",
      "Buzz\n",
      "Fizz\n",
      "37\n",
      "38\n",
      "Fizz\n",
      "Buzz\n",
      "41\n",
      "Fizz\n",
      "43\n",
      "44\n",
      "FizzBuzz\n",
      "46\n",
      "47\n",
      "Fizz\n",
      "49\n",
      "Buzz\n",
      "Fizz\n",
      "52\n",
      "53\n",
      "Fizz\n",
      "Buzz\n",
      "56\n",
      "Fizz\n",
      "58\n",
      "59\n",
      "FizzBuzz\n",
      "61\n",
      "62\n",
      "Fizz\n",
      "64\n",
      "Buzz\n",
      "Fizz\n",
      "67\n",
      "68\n",
      "Fizz\n",
      "Buzz\n",
      "71\n",
      "Fizz\n",
      "73\n",
      "74\n",
      "FizzBuzz\n",
      "76\n",
      "77\n",
      "Fizz\n",
      "79\n",
      "Buzz\n",
      "Fizz\n",
      "82\n",
      "83\n",
      "Fizz\n",
      "Buzz\n",
      "86\n",
      "Fizz\n",
      "88\n",
      "89\n",
      "FizzBuzz\n",
      "91\n",
      "92\n",
      "Fizz\n",
      "94\n",
      "Buzz\n",
      "Fizz\n",
      "97\n",
      "98\n",
      "Fizz\n",
      "Buzz\n"
     ]
    }
   ],
   "source": [
    "# Option 1 (For you: Would order of these \"if\" statements matter?)\n",
    "\n",
    "# Iterate through range\n",
    "for x in range(0,101):\n",
    "    if (x % 3 == 0) and (x % 5 == 0):\n",
    "        # Divisible by both 3 and 5\n",
    "        print(\"FizzBuzz\")\n",
    "\n",
    "    elif x % 5 == 0:\n",
    "        # Only divisible by 5\n",
    "        print(\"Buzz\")\n",
    "\n",
    "    elif x % 3 == 0:\n",
    "        # Only divisible by 3\n",
    "        print(\"Fizz\")\n",
    "    else:\n",
    "        print(x)"
   ]
  }
 ],
 "metadata": {
  "anaconda-cloud": {},
  "kernelspec": {
   "display_name": "Python 3",
   "language": "python",
   "name": "python3"
  },
  "language_info": {
   "codemirror_mode": {
    "name": "ipython",
    "version": 3
   },
   "file_extension": ".py",
   "mimetype": "text/x-python",
   "name": "python",
   "nbconvert_exporter": "python",
   "pygments_lexer": "ipython3",
   "version": "3.7.3"
  }
 },
 "nbformat": 4,
 "nbformat_minor": 2
}
